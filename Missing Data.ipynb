{
 "cells": [
  {
   "cell_type": "markdown",
   "id": "1ae1a30a-81b9-42aa-b245-7acf6d431043",
   "metadata": {},
   "source": [
    "# Missing Data"
   ]
  },
  {
   "cell_type": "code",
   "execution_count": 1,
   "id": "1ebac104-1de5-4f2c-8d0d-473640a5df0d",
   "metadata": {},
   "outputs": [],
   "source": [
    "import numpy as np\n",
    "import pandas as pd"
   ]
  },
  {
   "cell_type": "markdown",
   "id": "2e524a8a-6697-4666-98ba-73be00a2d202",
   "metadata": {},
   "source": [
    "## **Finding missing Data**"
   ]
  },
  {
   "cell_type": "code",
   "execution_count": 12,
   "id": "764d5795-2cf1-409b-a18d-15ab8ac7406c",
   "metadata": {},
   "outputs": [],
   "source": [
    "data = {\n",
    "    'A': [1, 2, np.nan, 4, 5], #np.nan ==> not a null value\n",
    "    'B': [1, 2, 3, 4, 5],\n",
    "    'C': [1, 2, 3, np.nan, np.nan],\n",
    "    'D': [1, np.nan, np.nan, np.nan, 5]\n",
    "}\n",
    "df=pd.DataFrame(data)"
   ]
  },
  {
   "cell_type": "code",
   "execution_count": 13,
   "id": "f10eabb1-ecec-4421-ae86-4d10c0f629d1",
   "metadata": {},
   "outputs": [
    {
     "data": {
      "text/html": [
       "<div>\n",
       "<style scoped>\n",
       "    .dataframe tbody tr th:only-of-type {\n",
       "        vertical-align: middle;\n",
       "    }\n",
       "\n",
       "    .dataframe tbody tr th {\n",
       "        vertical-align: top;\n",
       "    }\n",
       "\n",
       "    .dataframe thead th {\n",
       "        text-align: right;\n",
       "    }\n",
       "</style>\n",
       "<table border=\"1\" class=\"dataframe\">\n",
       "  <thead>\n",
       "    <tr style=\"text-align: right;\">\n",
       "      <th></th>\n",
       "      <th>A</th>\n",
       "      <th>B</th>\n",
       "      <th>C</th>\n",
       "      <th>D</th>\n",
       "    </tr>\n",
       "  </thead>\n",
       "  <tbody>\n",
       "    <tr>\n",
       "      <th>0</th>\n",
       "      <td>1.0</td>\n",
       "      <td>1</td>\n",
       "      <td>1.0</td>\n",
       "      <td>1.0</td>\n",
       "    </tr>\n",
       "    <tr>\n",
       "      <th>1</th>\n",
       "      <td>2.0</td>\n",
       "      <td>2</td>\n",
       "      <td>2.0</td>\n",
       "      <td>NaN</td>\n",
       "    </tr>\n",
       "    <tr>\n",
       "      <th>2</th>\n",
       "      <td>NaN</td>\n",
       "      <td>3</td>\n",
       "      <td>3.0</td>\n",
       "      <td>NaN</td>\n",
       "    </tr>\n",
       "    <tr>\n",
       "      <th>3</th>\n",
       "      <td>4.0</td>\n",
       "      <td>4</td>\n",
       "      <td>NaN</td>\n",
       "      <td>NaN</td>\n",
       "    </tr>\n",
       "    <tr>\n",
       "      <th>4</th>\n",
       "      <td>5.0</td>\n",
       "      <td>5</td>\n",
       "      <td>NaN</td>\n",
       "      <td>5.0</td>\n",
       "    </tr>\n",
       "  </tbody>\n",
       "</table>\n",
       "</div>"
      ],
      "text/plain": [
       "     A  B    C    D\n",
       "0  1.0  1  1.0  1.0\n",
       "1  2.0  2  2.0  NaN\n",
       "2  NaN  3  3.0  NaN\n",
       "3  4.0  4  NaN  NaN\n",
       "4  5.0  5  NaN  5.0"
      ]
     },
     "execution_count": 13,
     "metadata": {},
     "output_type": "execute_result"
    }
   ],
   "source": [
    "df"
   ]
  },
  {
   "cell_type": "markdown",
   "id": "4da68b74-f8e0-4af7-b245-2e454a1ce0a7",
   "metadata": {},
   "source": [
    "🔍 What it does:\n",
    "df.isna()\n",
    "Returns a DataFrame of same shape as df, with True where value is missing (NaN), else False.\n",
    "\n",
    ".sum()\n",
    "Sums up True values column-wise (because True = 1, False = 0 in Python).\n",
    "So it gives count of missing values in each column."
   ]
  },
  {
   "cell_type": "code",
   "execution_count": 14,
   "id": "e150287e-6448-4670-aa7d-f73f4036979d",
   "metadata": {},
   "outputs": [
    {
     "data": {
      "text/html": [
       "<div>\n",
       "<style scoped>\n",
       "    .dataframe tbody tr th:only-of-type {\n",
       "        vertical-align: middle;\n",
       "    }\n",
       "\n",
       "    .dataframe tbody tr th {\n",
       "        vertical-align: top;\n",
       "    }\n",
       "\n",
       "    .dataframe thead th {\n",
       "        text-align: right;\n",
       "    }\n",
       "</style>\n",
       "<table border=\"1\" class=\"dataframe\">\n",
       "  <thead>\n",
       "    <tr style=\"text-align: right;\">\n",
       "      <th></th>\n",
       "      <th>A</th>\n",
       "      <th>B</th>\n",
       "      <th>C</th>\n",
       "      <th>D</th>\n",
       "    </tr>\n",
       "  </thead>\n",
       "  <tbody>\n",
       "    <tr>\n",
       "      <th>0</th>\n",
       "      <td>False</td>\n",
       "      <td>False</td>\n",
       "      <td>False</td>\n",
       "      <td>False</td>\n",
       "    </tr>\n",
       "    <tr>\n",
       "      <th>1</th>\n",
       "      <td>False</td>\n",
       "      <td>False</td>\n",
       "      <td>False</td>\n",
       "      <td>True</td>\n",
       "    </tr>\n",
       "    <tr>\n",
       "      <th>2</th>\n",
       "      <td>True</td>\n",
       "      <td>False</td>\n",
       "      <td>False</td>\n",
       "      <td>True</td>\n",
       "    </tr>\n",
       "    <tr>\n",
       "      <th>3</th>\n",
       "      <td>False</td>\n",
       "      <td>False</td>\n",
       "      <td>True</td>\n",
       "      <td>True</td>\n",
       "    </tr>\n",
       "    <tr>\n",
       "      <th>4</th>\n",
       "      <td>False</td>\n",
       "      <td>False</td>\n",
       "      <td>True</td>\n",
       "      <td>False</td>\n",
       "    </tr>\n",
       "  </tbody>\n",
       "</table>\n",
       "</div>"
      ],
      "text/plain": [
       "       A      B      C      D\n",
       "0  False  False  False  False\n",
       "1  False  False  False   True\n",
       "2   True  False  False   True\n",
       "3  False  False   True   True\n",
       "4  False  False   True  False"
      ]
     },
     "execution_count": 14,
     "metadata": {},
     "output_type": "execute_result"
    }
   ],
   "source": [
    "df.isna() # checking null value in data and counting it"
   ]
  },
  {
   "cell_type": "code",
   "execution_count": 15,
   "id": "6dd6ff4e-23a0-4a03-8915-59ceaea992b8",
   "metadata": {},
   "outputs": [
    {
     "data": {
      "text/plain": [
       "A    1\n",
       "B    0\n",
       "C    2\n",
       "D    3\n",
       "dtype: int64"
      ]
     },
     "execution_count": 15,
     "metadata": {},
     "output_type": "execute_result"
    }
   ],
   "source": [
    "df.isna().sum()"
   ]
  },
  {
   "cell_type": "code",
   "execution_count": null,
   "id": "bf03e82b-a19b-4fd3-a7b0-2fb64d1a750a",
   "metadata": {},
   "outputs": [],
   "source": []
  },
  {
   "cell_type": "code",
   "execution_count": 16,
   "id": "bf4f7dd2-0c41-4104-b357-48787a4ebc98",
   "metadata": {},
   "outputs": [
    {
     "data": {
      "text/plain": [
       "A     True\n",
       "B    False\n",
       "C     True\n",
       "D     True\n",
       "dtype: bool"
      ]
     },
     "execution_count": 16,
     "metadata": {},
     "output_type": "execute_result"
    }
   ],
   "source": [
    "df.isna().any()\n",
    "#matlab: \"Kya kisi column me missing (NaN) value hai?\"\n",
    "#✅ What It Does:\n",
    "# df.isna() → returns True/False for each cell\n",
    "\n",
    "# .any() → returns True if at least one True exists in that column"
   ]
  },
  {
   "cell_type": "code",
   "execution_count": 17,
   "id": "53b7d7c0-d49c-4606-bdf9-65a3dcb0f2ad",
   "metadata": {},
   "outputs": [
    {
     "data": {
      "text/plain": [
       "np.True_"
      ]
     },
     "execution_count": 17,
     "metadata": {},
     "output_type": "execute_result"
    }
   ],
   "source": [
    "\n",
    "#Agar check karna ho \"Kya poore dataframe me kahin bhi NaN hai?\":\n",
    "df.isna().values.any()\n",
    "# Output: True (if anywhere missing)\n"
   ]
  },
  {
   "cell_type": "code",
   "execution_count": null,
   "id": "36877e66-d813-4027-b4ab-068d6b9486a3",
   "metadata": {},
   "outputs": [],
   "source": []
  },
  {
   "cell_type": "markdown",
   "id": "676dac4c-dd16-4c38-9509-61827c36c4ef",
   "metadata": {},
   "source": [
    "## **Removing Missing Data**"
   ]
  },
  {
   "cell_type": "code",
   "execution_count": 18,
   "id": "cd45db7d-045b-4e70-81ae-8a7b44f0a100",
   "metadata": {},
   "outputs": [
    {
     "data": {
      "text/html": [
       "<div>\n",
       "<style scoped>\n",
       "    .dataframe tbody tr th:only-of-type {\n",
       "        vertical-align: middle;\n",
       "    }\n",
       "\n",
       "    .dataframe tbody tr th {\n",
       "        vertical-align: top;\n",
       "    }\n",
       "\n",
       "    .dataframe thead th {\n",
       "        text-align: right;\n",
       "    }\n",
       "</style>\n",
       "<table border=\"1\" class=\"dataframe\">\n",
       "  <thead>\n",
       "    <tr style=\"text-align: right;\">\n",
       "      <th></th>\n",
       "      <th>A</th>\n",
       "      <th>B</th>\n",
       "      <th>C</th>\n",
       "      <th>D</th>\n",
       "    </tr>\n",
       "  </thead>\n",
       "  <tbody>\n",
       "    <tr>\n",
       "      <th>0</th>\n",
       "      <td>1.0</td>\n",
       "      <td>1</td>\n",
       "      <td>1.0</td>\n",
       "      <td>1.0</td>\n",
       "    </tr>\n",
       "    <tr>\n",
       "      <th>1</th>\n",
       "      <td>2.0</td>\n",
       "      <td>2</td>\n",
       "      <td>2.0</td>\n",
       "      <td>NaN</td>\n",
       "    </tr>\n",
       "    <tr>\n",
       "      <th>2</th>\n",
       "      <td>NaN</td>\n",
       "      <td>3</td>\n",
       "      <td>3.0</td>\n",
       "      <td>NaN</td>\n",
       "    </tr>\n",
       "    <tr>\n",
       "      <th>3</th>\n",
       "      <td>4.0</td>\n",
       "      <td>4</td>\n",
       "      <td>NaN</td>\n",
       "      <td>NaN</td>\n",
       "    </tr>\n",
       "    <tr>\n",
       "      <th>4</th>\n",
       "      <td>5.0</td>\n",
       "      <td>5</td>\n",
       "      <td>NaN</td>\n",
       "      <td>5.0</td>\n",
       "    </tr>\n",
       "  </tbody>\n",
       "</table>\n",
       "</div>"
      ],
      "text/plain": [
       "     A  B    C    D\n",
       "0  1.0  1  1.0  1.0\n",
       "1  2.0  2  2.0  NaN\n",
       "2  NaN  3  3.0  NaN\n",
       "3  4.0  4  NaN  NaN\n",
       "4  5.0  5  NaN  5.0"
      ]
     },
     "execution_count": 18,
     "metadata": {},
     "output_type": "execute_result"
    }
   ],
   "source": [
    "df"
   ]
  },
  {
   "cell_type": "markdown",
   "id": "b68ec6f3-761d-4971-ab60-95eb52c7093c",
   "metadata": {},
   "source": [
    "✅ Function: df.dropna()\n"
   ]
  },
  {
   "cell_type": "markdown",
   "id": "093fa0a3-338b-4865-b019-f41681146709",
   "metadata": {},
   "source": [
    "  Remove Rows with Missing Data (default)"
   ]
  },
  {
   "cell_type": "markdown",
   "id": "eea941ed-edba-4bb5-b26a-37becf860ef8",
   "metadata": {},
   "source": [
    "📌 Yeh by default axis=0 leta hai → rows remove karta hai jisme koi bhi NaN ho."
   ]
  },
  {
   "cell_type": "code",
   "execution_count": 19,
   "id": "5a793e79-22db-41d7-b160-c20eb5865d5a",
   "metadata": {},
   "outputs": [
    {
     "data": {
      "text/html": [
       "<div>\n",
       "<style scoped>\n",
       "    .dataframe tbody tr th:only-of-type {\n",
       "        vertical-align: middle;\n",
       "    }\n",
       "\n",
       "    .dataframe tbody tr th {\n",
       "        vertical-align: top;\n",
       "    }\n",
       "\n",
       "    .dataframe thead th {\n",
       "        text-align: right;\n",
       "    }\n",
       "</style>\n",
       "<table border=\"1\" class=\"dataframe\">\n",
       "  <thead>\n",
       "    <tr style=\"text-align: right;\">\n",
       "      <th></th>\n",
       "      <th>A</th>\n",
       "      <th>B</th>\n",
       "      <th>C</th>\n",
       "      <th>D</th>\n",
       "    </tr>\n",
       "  </thead>\n",
       "  <tbody>\n",
       "    <tr>\n",
       "      <th>0</th>\n",
       "      <td>1.0</td>\n",
       "      <td>1</td>\n",
       "      <td>1.0</td>\n",
       "      <td>1.0</td>\n",
       "    </tr>\n",
       "  </tbody>\n",
       "</table>\n",
       "</div>"
      ],
      "text/plain": [
       "     A  B    C    D\n",
       "0  1.0  1  1.0  1.0"
      ]
     },
     "execution_count": 19,
     "metadata": {},
     "output_type": "execute_result"
    }
   ],
   "source": [
    "df.dropna()"
   ]
  },
  {
   "cell_type": "code",
   "execution_count": 20,
   "id": "c9de4899-372f-41ce-ba72-c74f304ded22",
   "metadata": {},
   "outputs": [
    {
     "data": {
      "text/html": [
       "<div>\n",
       "<style scoped>\n",
       "    .dataframe tbody tr th:only-of-type {\n",
       "        vertical-align: middle;\n",
       "    }\n",
       "\n",
       "    .dataframe tbody tr th {\n",
       "        vertical-align: top;\n",
       "    }\n",
       "\n",
       "    .dataframe thead th {\n",
       "        text-align: right;\n",
       "    }\n",
       "</style>\n",
       "<table border=\"1\" class=\"dataframe\">\n",
       "  <thead>\n",
       "    <tr style=\"text-align: right;\">\n",
       "      <th></th>\n",
       "      <th>A</th>\n",
       "      <th>B</th>\n",
       "      <th>C</th>\n",
       "      <th>D</th>\n",
       "    </tr>\n",
       "  </thead>\n",
       "  <tbody>\n",
       "    <tr>\n",
       "      <th>0</th>\n",
       "      <td>1.0</td>\n",
       "      <td>1</td>\n",
       "      <td>1.0</td>\n",
       "      <td>1.0</td>\n",
       "    </tr>\n",
       "    <tr>\n",
       "      <th>1</th>\n",
       "      <td>2.0</td>\n",
       "      <td>2</td>\n",
       "      <td>2.0</td>\n",
       "      <td>NaN</td>\n",
       "    </tr>\n",
       "    <tr>\n",
       "      <th>4</th>\n",
       "      <td>5.0</td>\n",
       "      <td>5</td>\n",
       "      <td>NaN</td>\n",
       "      <td>5.0</td>\n",
       "    </tr>\n",
       "  </tbody>\n",
       "</table>\n",
       "</div>"
      ],
      "text/plain": [
       "     A  B    C    D\n",
       "0  1.0  1  1.0  1.0\n",
       "1  2.0  2  2.0  NaN\n",
       "4  5.0  5  NaN  5.0"
      ]
     },
     "execution_count": 20,
     "metadata": {},
     "output_type": "execute_result"
    }
   ],
   "source": [
    "df.dropna(thresh=3)"
   ]
  },
  {
   "cell_type": "markdown",
   "id": "151f8204-9d76-433f-a0fb-c362e6e5bf17",
   "metadata": {},
   "source": [
    "✅ Meaning of thresh=n"
   ]
  },
  {
   "cell_type": "markdown",
   "id": "07fab169-2076-44d1-b6ca-37bdeb40d72d",
   "metadata": {},
   "source": [
    "thresh=n ka matlab hai: ✅ Keep only those rows/columns which have at least n non-null (not NaN) values."
   ]
  },
  {
   "cell_type": "markdown",
   "id": "85b72199-9269-49d4-a346-976610f4b084",
   "metadata": {},
   "source": [
    "matlab only drop karo rows (ya columns) jisme 3 ya usse kam non-NaN values ho."
   ]
  },
  {
   "cell_type": "code",
   "execution_count": null,
   "id": "dd60e19c-6454-405d-956d-73d6dbea06b6",
   "metadata": {},
   "outputs": [],
   "source": []
  },
  {
   "cell_type": "markdown",
   "id": "9f6f1ba8-aee3-4ad4-bed6-3c1e26c605c2",
   "metadata": {},
   "source": [
    "## **Filling The missing Data**"
   ]
  },
  {
   "cell_type": "code",
   "execution_count": 22,
   "id": "aedef858-f7c2-49aa-867b-d10c22fe0fdd",
   "metadata": {},
   "outputs": [
    {
     "data": {
      "text/html": [
       "<div>\n",
       "<style scoped>\n",
       "    .dataframe tbody tr th:only-of-type {\n",
       "        vertical-align: middle;\n",
       "    }\n",
       "\n",
       "    .dataframe tbody tr th {\n",
       "        vertical-align: top;\n",
       "    }\n",
       "\n",
       "    .dataframe thead th {\n",
       "        text-align: right;\n",
       "    }\n",
       "</style>\n",
       "<table border=\"1\" class=\"dataframe\">\n",
       "  <thead>\n",
       "    <tr style=\"text-align: right;\">\n",
       "      <th></th>\n",
       "      <th>A</th>\n",
       "      <th>B</th>\n",
       "      <th>C</th>\n",
       "      <th>D</th>\n",
       "    </tr>\n",
       "  </thead>\n",
       "  <tbody>\n",
       "    <tr>\n",
       "      <th>0</th>\n",
       "      <td>1.0</td>\n",
       "      <td>1</td>\n",
       "      <td>1.0</td>\n",
       "      <td>1.0</td>\n",
       "    </tr>\n",
       "    <tr>\n",
       "      <th>1</th>\n",
       "      <td>2.0</td>\n",
       "      <td>2</td>\n",
       "      <td>2.0</td>\n",
       "      <td>NaN</td>\n",
       "    </tr>\n",
       "    <tr>\n",
       "      <th>2</th>\n",
       "      <td>NaN</td>\n",
       "      <td>3</td>\n",
       "      <td>3.0</td>\n",
       "      <td>NaN</td>\n",
       "    </tr>\n",
       "    <tr>\n",
       "      <th>3</th>\n",
       "      <td>4.0</td>\n",
       "      <td>4</td>\n",
       "      <td>NaN</td>\n",
       "      <td>NaN</td>\n",
       "    </tr>\n",
       "    <tr>\n",
       "      <th>4</th>\n",
       "      <td>5.0</td>\n",
       "      <td>5</td>\n",
       "      <td>NaN</td>\n",
       "      <td>5.0</td>\n",
       "    </tr>\n",
       "  </tbody>\n",
       "</table>\n",
       "</div>"
      ],
      "text/plain": [
       "     A  B    C    D\n",
       "0  1.0  1  1.0  1.0\n",
       "1  2.0  2  2.0  NaN\n",
       "2  NaN  3  3.0  NaN\n",
       "3  4.0  4  NaN  NaN\n",
       "4  5.0  5  NaN  5.0"
      ]
     },
     "execution_count": 22,
     "metadata": {},
     "output_type": "execute_result"
    }
   ],
   "source": [
    "df"
   ]
  },
  {
   "cell_type": "markdown",
   "id": "7bbb3f87-1c01-45aa-85f4-5348a4b0c65a",
   "metadata": {},
   "source": [
    " filling the missing value with any number, let's say 0"
   ]
  },
  {
   "cell_type": "markdown",
   "id": "2b82d363-116a-4a48-bb36-07d6ca0616c8",
   "metadata": {},
   "source": [
    "✅ Function: df.fillna(value)"
   ]
  },
  {
   "cell_type": "markdown",
   "id": "e8c3588c-3b19-4d7d-a7a9-0ccbae5a7bbc",
   "metadata": {},
   "source": [
    "Iska use hum karte hain missing values (NaN) ko kisi value se replace karne ke liye."
   ]
  },
  {
   "cell_type": "code",
   "execution_count": 23,
   "id": "9c406cc0-bea3-4f57-ac9b-561b656c3b17",
   "metadata": {},
   "outputs": [
    {
     "data": {
      "text/html": [
       "<div>\n",
       "<style scoped>\n",
       "    .dataframe tbody tr th:only-of-type {\n",
       "        vertical-align: middle;\n",
       "    }\n",
       "\n",
       "    .dataframe tbody tr th {\n",
       "        vertical-align: top;\n",
       "    }\n",
       "\n",
       "    .dataframe thead th {\n",
       "        text-align: right;\n",
       "    }\n",
       "</style>\n",
       "<table border=\"1\" class=\"dataframe\">\n",
       "  <thead>\n",
       "    <tr style=\"text-align: right;\">\n",
       "      <th></th>\n",
       "      <th>A</th>\n",
       "      <th>B</th>\n",
       "      <th>C</th>\n",
       "      <th>D</th>\n",
       "    </tr>\n",
       "  </thead>\n",
       "  <tbody>\n",
       "    <tr>\n",
       "      <th>0</th>\n",
       "      <td>1.0</td>\n",
       "      <td>1</td>\n",
       "      <td>1.0</td>\n",
       "      <td>1.0</td>\n",
       "    </tr>\n",
       "    <tr>\n",
       "      <th>1</th>\n",
       "      <td>2.0</td>\n",
       "      <td>2</td>\n",
       "      <td>2.0</td>\n",
       "      <td>0.0</td>\n",
       "    </tr>\n",
       "    <tr>\n",
       "      <th>2</th>\n",
       "      <td>0.0</td>\n",
       "      <td>3</td>\n",
       "      <td>3.0</td>\n",
       "      <td>0.0</td>\n",
       "    </tr>\n",
       "    <tr>\n",
       "      <th>3</th>\n",
       "      <td>4.0</td>\n",
       "      <td>4</td>\n",
       "      <td>0.0</td>\n",
       "      <td>0.0</td>\n",
       "    </tr>\n",
       "    <tr>\n",
       "      <th>4</th>\n",
       "      <td>5.0</td>\n",
       "      <td>5</td>\n",
       "      <td>0.0</td>\n",
       "      <td>5.0</td>\n",
       "    </tr>\n",
       "  </tbody>\n",
       "</table>\n",
       "</div>"
      ],
      "text/plain": [
       "     A  B    C    D\n",
       "0  1.0  1  1.0  1.0\n",
       "1  2.0  2  2.0  0.0\n",
       "2  0.0  3  3.0  0.0\n",
       "3  4.0  4  0.0  0.0\n",
       "4  5.0  5  0.0  5.0"
      ]
     },
     "execution_count": 23,
     "metadata": {},
     "output_type": "execute_result"
    }
   ],
   "source": [
    "df.fillna(0) #📌 Sare NaN values ko 0 se replace karega."
   ]
  },
  {
   "cell_type": "markdown",
   "id": "b005b6c5-c04e-43c0-9c5b-d7188da2cbe4",
   "metadata": {},
   "source": [
    " ### Fill each column with different value"
   ]
  },
  {
   "cell_type": "code",
   "execution_count": 26,
   "id": "2677bb84-ef22-4357-a3fd-38f413b5a75d",
   "metadata": {},
   "outputs": [
    {
     "data": {
      "text/html": [
       "<div>\n",
       "<style scoped>\n",
       "    .dataframe tbody tr th:only-of-type {\n",
       "        vertical-align: middle;\n",
       "    }\n",
       "\n",
       "    .dataframe tbody tr th {\n",
       "        vertical-align: top;\n",
       "    }\n",
       "\n",
       "    .dataframe thead th {\n",
       "        text-align: right;\n",
       "    }\n",
       "</style>\n",
       "<table border=\"1\" class=\"dataframe\">\n",
       "  <thead>\n",
       "    <tr style=\"text-align: right;\">\n",
       "      <th></th>\n",
       "      <th>A</th>\n",
       "      <th>B</th>\n",
       "      <th>C</th>\n",
       "      <th>D</th>\n",
       "    </tr>\n",
       "  </thead>\n",
       "  <tbody>\n",
       "    <tr>\n",
       "      <th>0</th>\n",
       "      <td>1.0</td>\n",
       "      <td>1</td>\n",
       "      <td>1.0</td>\n",
       "      <td>1.0</td>\n",
       "    </tr>\n",
       "    <tr>\n",
       "      <th>1</th>\n",
       "      <td>2.0</td>\n",
       "      <td>2</td>\n",
       "      <td>2.0</td>\n",
       "      <td>15.0</td>\n",
       "    </tr>\n",
       "    <tr>\n",
       "      <th>2</th>\n",
       "      <td>0.0</td>\n",
       "      <td>3</td>\n",
       "      <td>3.0</td>\n",
       "      <td>15.0</td>\n",
       "    </tr>\n",
       "    <tr>\n",
       "      <th>3</th>\n",
       "      <td>4.0</td>\n",
       "      <td>4</td>\n",
       "      <td>12.0</td>\n",
       "      <td>15.0</td>\n",
       "    </tr>\n",
       "    <tr>\n",
       "      <th>4</th>\n",
       "      <td>5.0</td>\n",
       "      <td>5</td>\n",
       "      <td>12.0</td>\n",
       "      <td>5.0</td>\n",
       "    </tr>\n",
       "  </tbody>\n",
       "</table>\n",
       "</div>"
      ],
      "text/plain": [
       "     A  B     C     D\n",
       "0  1.0  1   1.0   1.0\n",
       "1  2.0  2   2.0  15.0\n",
       "2  0.0  3   3.0  15.0\n",
       "3  4.0  4  12.0  15.0\n",
       "4  5.0  5  12.0   5.0"
      ]
     },
     "execution_count": 26,
     "metadata": {},
     "output_type": "execute_result"
    }
   ],
   "source": [
    "df.fillna({'A': 0, 'B': 99,'C':12,'D':15})  #📌 Column A me NaN → 0, column B me NaN → 99 and so on\n"
   ]
  },
  {
   "cell_type": "markdown",
   "id": "fe9cc9b7-5f5e-4960-b3e5-bd12da0e151f",
   "metadata": {},
   "source": [
    "✅ Basic Summary (Beginner-Friendly):"
   ]
  },
  {
   "cell_type": "markdown",
   "id": "3fc8ed2d-790c-482a-9d48-fde8ced3b020",
   "metadata": {},
   "source": [
    "| Task               | Function   | Use                                          |\n",
    "| ------------------ | ---------- | -------------------------------------------- |\n",
    "| 🔍 Finding Missing | `isna()`   | Detect where NaN/missing values exist        |\n",
    "| ❌ Removing Missing | `dropna()` | Remove rows/columns with missing values      |\n",
    "| 🔄 Filling Missing | `fillna()` | Replace missing values with something useful |\n"
   ]
  },
  {
   "cell_type": "markdown",
   "id": "a937fe16-7fea-4890-95f4-642348bfc3d6",
   "metadata": {},
   "source": [
    "✅ Yes, you can confidently say:\n",
    "\"The basic code for handling missing data in Pandas is:\n",
    "\n",
    "isna() to find,\n",
    "\n",
    "dropna() to remove, and\n",
    "\n",
    "fillna() to fill missing values.\"**"
   ]
  },
  {
   "cell_type": "markdown",
   "id": "2115e3fd-daa6-45a8-a674-dbb2ee77fa9f",
   "metadata": {},
   "source": [
    "🔥 Ye 3 functions hi 90% cases me kaafi hote hain, especially for beginners."
   ]
  },
  {
   "cell_type": "code",
   "execution_count": null,
   "id": "74381f58-c39e-4d2d-81c3-16c1d91f1aef",
   "metadata": {},
   "outputs": [],
   "source": []
  }
 ],
 "metadata": {
  "kernelspec": {
   "display_name": "Python 3 (ipykernel)",
   "language": "python",
   "name": "python3"
  },
  "language_info": {
   "codemirror_mode": {
    "name": "ipython",
    "version": 3
   },
   "file_extension": ".py",
   "mimetype": "text/x-python",
   "name": "python",
   "nbconvert_exporter": "python",
   "pygments_lexer": "ipython3",
   "version": "3.13.1"
  }
 },
 "nbformat": 4,
 "nbformat_minor": 5
}
