{
 "cells": [
  {
   "cell_type": "markdown",
   "id": "a1dccfc2-8ac4-401c-8982-df2b0bf51f2c",
   "metadata": {},
   "source": [
    "## Panda Series:\n",
    "A Pandas Series is like a column in a table.\n",
    "\n",
    "It is a one-dimensional array holding data of any type."
   ]
  },
  {
   "cell_type": "markdown",
   "id": "95ce57ac-0303-43fa-808c-e86a7d2373df",
   "metadata": {},
   "source": [
    "**The axix labels are collectively called the index**"
   ]
  },
  {
   "cell_type": "markdown",
   "id": "c21e00ff-ada3-472d-b8ce-97cf5cf263d0",
   "metadata": {},
   "source": [
    "## Creating Series"
   ]
  },
  {
   "cell_type": "markdown",
   "id": "d1bd5ab2-eaa0-4f1d-82e7-c124b8ebdd93",
   "metadata": {},
   "source": [
    "There are multiple ways to create a Pandas Series\n"
   ]
  },
  {
   "cell_type": "code",
   "execution_count": 7,
   "id": "4c4200da-5638-4c5a-a6e9-813f1bfcf398",
   "metadata": {},
   "outputs": [],
   "source": [
    "import numpy as np\n",
    "import pandas as pd"
   ]
  },
  {
   "cell_type": "code",
   "execution_count": 13,
   "id": "5969d7e6-1e1b-4bbf-ad40-73b637809646",
   "metadata": {},
   "outputs": [],
   "source": [
    "labels = ['a','b','c','d']\n",
    "my_list = [10,20,30,40]\n",
    "\n",
    "arr= np.array([10,20,30])\n",
    "\n",
    "dis= {1:10,2:20,3:30}"
   ]
  },
  {
   "cell_type": "markdown",
   "id": "a7b3e85e-d7e1-4246-943f-01e3be75faf2",
   "metadata": {},
   "source": [
    "To create series : pd.Series()"
   ]
  },
  {
   "cell_type": "code",
   "execution_count": 9,
   "id": "569607f1-96ea-4653-934b-bedb897b09eb",
   "metadata": {},
   "outputs": [
    {
     "name": "stdout",
     "output_type": "stream",
     "text": [
      "0    10\n",
      "1    20\n",
      "2    30\n",
      "3    40\n",
      "dtype: int64\n"
     ]
    }
   ],
   "source": [
    "my_list = [10, 20, 30, 40]\n",
    "s = pd.Series(my_list)\n",
    "print(s)\n"
   ]
  },
  {
   "cell_type": "markdown",
   "id": "2d4de087-0ab4-475a-9812-82dae12c4248",
   "metadata": {},
   "source": [
    "With the index argument, you can name your own labels."
   ]
  },
  {
   "cell_type": "code",
   "execution_count": 14,
   "id": "e28a321e-40a4-41ef-88c4-423a0bfd137b",
   "metadata": {},
   "outputs": [
    {
     "data": {
      "text/plain": [
       "a    10\n",
       "b    20\n",
       "c    30\n",
       "d    40\n",
       "dtype: int64"
      ]
     },
     "execution_count": 14,
     "metadata": {},
     "output_type": "execute_result"
    }
   ],
   "source": [
    "pd.Series(my_list,index=labels)"
   ]
  },
  {
   "cell_type": "markdown",
   "id": "9392a8a8-9c39-461b-9baf-cfc3e3d91b5b",
   "metadata": {},
   "source": [
    "### Series using array"
   ]
  },
  {
   "cell_type": "code",
   "execution_count": 15,
   "id": "80780a4c-98ed-46a6-bcc9-23219914a5b6",
   "metadata": {},
   "outputs": [
    {
     "data": {
      "text/plain": [
       "0    10\n",
       "1    20\n",
       "2    30\n",
       "dtype: int64"
      ]
     },
     "execution_count": 15,
     "metadata": {},
     "output_type": "execute_result"
    }
   ],
   "source": [
    "pd.Series(arr)"
   ]
  },
  {
   "cell_type": "markdown",
   "id": "c68db9f7-b54b-47d5-80a8-aa951104310b",
   "metadata": {},
   "source": [
    "### Series using Dictionary:"
   ]
  },
  {
   "cell_type": "code",
   "execution_count": 16,
   "id": "49ab9ffb-80d1-4c0d-8bc6-1f72187e84bb",
   "metadata": {},
   "outputs": [
    {
     "data": {
      "text/plain": [
       "1    10\n",
       "2    20\n",
       "3    30\n",
       "dtype: int64"
      ]
     },
     "execution_count": 16,
     "metadata": {},
     "output_type": "execute_result"
    }
   ],
   "source": [
    "pd.Series(dis)"
   ]
  },
  {
   "cell_type": "markdown",
   "id": "f60bf205-3a3c-4445-82d0-8a5ef6638df4",
   "metadata": {},
   "source": [
    "**Note: The keys of the dictionary become the labels.**"
   ]
  },
  {
   "cell_type": "code",
   "execution_count": null,
   "id": "a2a87637-f1a8-466a-953a-103561ac890f",
   "metadata": {},
   "outputs": [],
   "source": []
  },
  {
   "cell_type": "code",
   "execution_count": null,
   "id": "d1908f57-d852-4e7b-96d9-9e5c31a77d9e",
   "metadata": {},
   "outputs": [],
   "source": []
  }
 ],
 "metadata": {
  "kernelspec": {
   "display_name": "Python 3 (ipykernel)",
   "language": "python",
   "name": "python3"
  },
  "language_info": {
   "codemirror_mode": {
    "name": "ipython",
    "version": 3
   },
   "file_extension": ".py",
   "mimetype": "text/x-python",
   "name": "python",
   "nbconvert_exporter": "python",
   "pygments_lexer": "ipython3",
   "version": "3.13.1"
  }
 },
 "nbformat": 4,
 "nbformat_minor": 5
}
