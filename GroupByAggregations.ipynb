{
 "cells": [
  {
   "cell_type": "code",
   "execution_count": 13,
   "id": "fbef8bd3-8998-4751-ba91-c1a3a2c05bcf",
   "metadata": {},
   "outputs": [],
   "source": [
    "import numpy as np\n",
    "import pandas as pd"
   ]
  },
  {
   "cell_type": "markdown",
   "id": "dc68d7bf-c292-45da-a2d5-461ab8628e51",
   "metadata": {},
   "source": [
    "# GroupBy"
   ]
  },
  {
   "cell_type": "markdown",
   "id": "a7c2a184-7be4-4780-90b6-145553fbac8d",
   "metadata": {},
   "source": [
    "🔁 What is groupby()?"
   ]
  },
  {
   "cell_type": "markdown",
   "id": "c55f6de5-f36f-4754-88ec-2c51d22d131c",
   "metadata": {},
   "source": [
    "groupby() lets you split your data into groups, apply some function, and then combine the results — it's known as:\n",
    "\n"
   ]
  },
  {
   "cell_type": "markdown",
   "id": "171aa4ca-1348-4e5c-8cc4-d246e2534407",
   "metadata": {},
   "source": [
    "**Split → Apply → Combine**"
   ]
  },
  {
   "cell_type": "markdown",
   "id": "0e3b1293-4f45-4737-a1f1-65cb7a2312c7",
   "metadata": {},
   "source": [
    "✅ Basic Syntax:"
   ]
  },
  {
   "cell_type": "markdown",
   "id": "158025d1-eb43-456f-a0b9-fed3e2ff4bf1",
   "metadata": {},
   "source": [
    "**df.groupby('column_name')**\n"
   ]
  },
  {
   "cell_type": "markdown",
   "id": "afc532b8-8f6d-4316-8c94-7b5a4ec8acdc",
   "metadata": {},
   "source": [
    "But it becomes more useful with an aggregation like:"
   ]
  },
  {
   "cell_type": "markdown",
   "id": "0ae4836f-0155-4a76-8834-2b4be3daa525",
   "metadata": {},
   "source": [
    "df.groupby('column_name')['target_column'].sum()\n",
    "\n"
   ]
  },
  {
   "cell_type": "markdown",
   "id": "c37c20d5-48f3-4fa0-907c-3ba1f45c9d64",
   "metadata": {},
   "source": [
    "💡 Common Aggregation Functions:"
   ]
  },
  {
   "cell_type": "markdown",
   "id": "0822979a-5015-4f4d-8bef-c15650d6f2d8",
   "metadata": {},
   "source": [
    "| Function   | Description    |\n",
    "| ---------- | -------------- |\n",
    "| `.sum()`   | Total          |\n",
    "| `.mean()`  | Average        |\n",
    "| `.count()` | No. of entries |\n",
    "| `.max()`   | Highest value  |\n",
    "| `.min()`   | Lowest value   |\n"
   ]
  },
  {
   "cell_type": "code",
   "execution_count": null,
   "id": "9be25b65-ed8d-429a-a1de-e3a40bef2b96",
   "metadata": {},
   "outputs": [],
   "source": []
  },
  {
   "cell_type": "code",
   "execution_count": 4,
   "id": "1dd02c80-de6c-4c3d-891f-b8812f55d69f",
   "metadata": {},
   "outputs": [],
   "source": [
    "data = {\n",
    "    'Category': ['A', 'A', 'B', 'B', 'A', 'B', 'A', 'B'],\n",
    "    'Store': ['S1', 'S2', 'S1', 'S2', 'S1', 'S2', 'S2', 'S1'],\n",
    "    'Sales': [100, 200, 150, 250, 120, 180, 200, 300],\n",
    "    'Quantity': [10, 15, 12, 18, 8, 20, 15, 25],\n",
    "    'Date': pd.date_range('2023-01-01', periods=8)\n",
    "}\n",
    "\n",
    "df = pd.DataFrame(data)\n"
   ]
  },
  {
   "cell_type": "code",
   "execution_count": 5,
   "id": "279deeb2-71de-403d-af30-04a427ee94bc",
   "metadata": {},
   "outputs": [
    {
     "data": {
      "text/html": [
       "<div>\n",
       "<style scoped>\n",
       "    .dataframe tbody tr th:only-of-type {\n",
       "        vertical-align: middle;\n",
       "    }\n",
       "\n",
       "    .dataframe tbody tr th {\n",
       "        vertical-align: top;\n",
       "    }\n",
       "\n",
       "    .dataframe thead th {\n",
       "        text-align: right;\n",
       "    }\n",
       "</style>\n",
       "<table border=\"1\" class=\"dataframe\">\n",
       "  <thead>\n",
       "    <tr style=\"text-align: right;\">\n",
       "      <th></th>\n",
       "      <th>Category</th>\n",
       "      <th>Store</th>\n",
       "      <th>Sales</th>\n",
       "      <th>Quantity</th>\n",
       "      <th>Date</th>\n",
       "    </tr>\n",
       "  </thead>\n",
       "  <tbody>\n",
       "    <tr>\n",
       "      <th>0</th>\n",
       "      <td>A</td>\n",
       "      <td>S1</td>\n",
       "      <td>100</td>\n",
       "      <td>10</td>\n",
       "      <td>2023-01-01</td>\n",
       "    </tr>\n",
       "    <tr>\n",
       "      <th>1</th>\n",
       "      <td>A</td>\n",
       "      <td>S2</td>\n",
       "      <td>200</td>\n",
       "      <td>15</td>\n",
       "      <td>2023-01-02</td>\n",
       "    </tr>\n",
       "    <tr>\n",
       "      <th>2</th>\n",
       "      <td>B</td>\n",
       "      <td>S1</td>\n",
       "      <td>150</td>\n",
       "      <td>12</td>\n",
       "      <td>2023-01-03</td>\n",
       "    </tr>\n",
       "    <tr>\n",
       "      <th>3</th>\n",
       "      <td>B</td>\n",
       "      <td>S2</td>\n",
       "      <td>250</td>\n",
       "      <td>18</td>\n",
       "      <td>2023-01-04</td>\n",
       "    </tr>\n",
       "    <tr>\n",
       "      <th>4</th>\n",
       "      <td>A</td>\n",
       "      <td>S1</td>\n",
       "      <td>120</td>\n",
       "      <td>8</td>\n",
       "      <td>2023-01-05</td>\n",
       "    </tr>\n",
       "    <tr>\n",
       "      <th>5</th>\n",
       "      <td>B</td>\n",
       "      <td>S2</td>\n",
       "      <td>180</td>\n",
       "      <td>20</td>\n",
       "      <td>2023-01-06</td>\n",
       "    </tr>\n",
       "    <tr>\n",
       "      <th>6</th>\n",
       "      <td>A</td>\n",
       "      <td>S2</td>\n",
       "      <td>200</td>\n",
       "      <td>15</td>\n",
       "      <td>2023-01-07</td>\n",
       "    </tr>\n",
       "    <tr>\n",
       "      <th>7</th>\n",
       "      <td>B</td>\n",
       "      <td>S1</td>\n",
       "      <td>300</td>\n",
       "      <td>25</td>\n",
       "      <td>2023-01-08</td>\n",
       "    </tr>\n",
       "  </tbody>\n",
       "</table>\n",
       "</div>"
      ],
      "text/plain": [
       "  Category Store  Sales  Quantity       Date\n",
       "0        A    S1    100        10 2023-01-01\n",
       "1        A    S2    200        15 2023-01-02\n",
       "2        B    S1    150        12 2023-01-03\n",
       "3        B    S2    250        18 2023-01-04\n",
       "4        A    S1    120         8 2023-01-05\n",
       "5        B    S2    180        20 2023-01-06\n",
       "6        A    S2    200        15 2023-01-07\n",
       "7        B    S1    300        25 2023-01-08"
      ]
     },
     "execution_count": 5,
     "metadata": {},
     "output_type": "execute_result"
    }
   ],
   "source": [
    "df"
   ]
  },
  {
   "cell_type": "markdown",
   "id": "9f3ecb68-4726-498b-a089-45795694ba7b",
   "metadata": {},
   "source": [
    " **Q:Group by category and calculate the sum of sells**"
   ]
  },
  {
   "cell_type": "code",
   "execution_count": 7,
   "id": "86ec3c6b-bd5b-4e3e-81ba-20cf1903f02f",
   "metadata": {},
   "outputs": [
    {
     "data": {
      "text/plain": [
       "Category\n",
       "A    620\n",
       "B    880\n",
       "Name: Sales, dtype: int64"
      ]
     },
     "execution_count": 7,
     "metadata": {},
     "output_type": "execute_result"
    }
   ],
   "source": [
    "cat=df.groupby('Category')['Sales'].sum()\n",
    "cat"
   ]
  },
  {
   "cell_type": "markdown",
   "id": "ccfcb8a4-e4cf-49d6-aa0c-9147214d121c",
   "metadata": {},
   "source": [
    "\n",
    "**Q:Group by store and calculate the sum of sells**"
   ]
  },
  {
   "cell_type": "code",
   "execution_count": 8,
   "id": "4111ff79-6e91-4c03-9dd0-ecad4d8c9d9e",
   "metadata": {},
   "outputs": [
    {
     "data": {
      "text/plain": [
       "Store\n",
       "S1    670\n",
       "S2    830\n",
       "Name: Sales, dtype: int64"
      ]
     },
     "execution_count": 8,
     "metadata": {},
     "output_type": "execute_result"
    }
   ],
   "source": [
    "store=df.groupby('Store')['Sales'].sum()\n",
    "store"
   ]
  },
  {
   "cell_type": "markdown",
   "id": "84231f15-3bdb-4d19-ad4e-c656ef2701e6",
   "metadata": {},
   "source": [
    "🧠 groupby() with Multiple Columns"
   ]
  },
  {
   "cell_type": "markdown",
   "id": "8b7e7ede-b99a-4389-a335-bffcf7f4ea4c",
   "metadata": {},
   "source": [
    "✅ Syntax:"
   ]
  },
  {
   "cell_type": "markdown",
   "id": "c71c520d-a266-4005-99ee-64a49fcaba9a",
   "metadata": {},
   "source": [
    "df.groupby(['col1', 'col2'])['target_col'].agg(func)\n"
   ]
  },
  {
   "cell_type": "markdown",
   "id": "89c0bdc5-b44f-47b1-9871-36c2092eb86c",
   "metadata": {},
   "source": [
    "Yeh aapko nested grouping deta hai — jaise Category ke andar Store-wise total sales, etc"
   ]
  },
  {
   "cell_type": "markdown",
   "id": "7c1fc0ec-472d-45f7-a77b-7ec58972f0f3",
   "metadata": {},
   "source": [
    "**Q:Group by Category and  store and calculate the sum of sells (Multiple Columns)**"
   ]
  },
  {
   "cell_type": "code",
   "execution_count": 12,
   "id": "465aa832-5b3e-4af5-9db4-4209a1762113",
   "metadata": {},
   "outputs": [
    {
     "data": {
      "text/plain": [
       "Category  Store\n",
       "A         S1       220\n",
       "          S2       400\n",
       "B         S1       450\n",
       "          S2       430\n",
       "Name: Sales, dtype: int64"
      ]
     },
     "execution_count": 12,
     "metadata": {},
     "output_type": "execute_result"
    }
   ],
   "source": [
    "Catstore=df.groupby(['Category','Store'])['Sales'].sum()\n",
    "Catstore"
   ]
  },
  {
   "cell_type": "code",
   "execution_count": null,
   "id": "effc5860-55c8-46eb-afa2-a666dc718970",
   "metadata": {},
   "outputs": [],
   "source": []
  },
  {
   "cell_type": "markdown",
   "id": "9e22c340-fdee-4b89-8a0a-b1ba89af455d",
   "metadata": {},
   "source": [
    "# **Aggregations**"
   ]
  },
  {
   "cell_type": "markdown",
   "id": "5f2d32bb-ed16-40de-87f1-9a1cbc18a390",
   "metadata": {},
   "source": [
    "🔗 What is Aggregation?"
   ]
  },
  {
   "cell_type": "markdown",
   "id": "f8a8970b-18af-46c3-80d7-fff2f3044972",
   "metadata": {},
   "source": [
    "Aggregation ka matlab hota hai:"
   ]
  },
  {
   "cell_type": "markdown",
   "id": "0d8f11d7-ec3c-4a45-889f-b6e0fc2a4923",
   "metadata": {},
   "source": [
    "Group karke kisi column ka summary statistic nikalna, jaise:"
   ]
  },
  {
   "cell_type": "markdown",
   "id": "c7131eb7-7aa1-4f15-a6c0-5bd5e62a1537",
   "metadata": {},
   "source": [
    "total (sum)\n",
    "\n",
    "average (mean)\n",
    "\n",
    "max/min\n",
    "\n",
    "count etc."
   ]
  },
  {
   "cell_type": "markdown",
   "id": "8a916f10-05a9-4538-87db-b91d6a67525d",
   "metadata": {},
   "source": [
    "✅ Common Aggregation Functions:"
   ]
  },
  {
   "cell_type": "markdown",
   "id": "e6a48057-636f-4e0b-9db1-9390e610f728",
   "metadata": {},
   "source": [
    "| Function    | Use Case           |\n",
    "| ----------- | ------------------ |\n",
    "| `.sum()`    | Total of values    |\n",
    "| `.mean()`   | Average value      |\n",
    "| `.count()`  | Number of entries  |\n",
    "| `.min()`    | Minimum value      |\n",
    "| `.max()`    | Maximum value      |\n",
    "| `.median()` | Middle value       |\n",
    "| `.std()`    | Standard deviation |\n"
   ]
  },
  {
   "cell_type": "markdown",
   "id": "8cbec883-9f25-4dd8-ba4e-bcc588379791",
   "metadata": {},
   "source": [
    "📘 Example 1: Single Aggregation"
   ]
  },
  {
   "cell_type": "code",
   "execution_count": 14,
   "id": "eabe6429-8654-4c1b-bed2-cb8bdb71e472",
   "metadata": {},
   "outputs": [
    {
     "data": {
      "text/plain": [
       "Category\n",
       "A    620\n",
       "B    880\n",
       "Name: Sales, dtype: int64"
      ]
     },
     "execution_count": 14,
     "metadata": {},
     "output_type": "execute_result"
    }
   ],
   "source": [
    "df.groupby('Category')['Sales'].sum()\n"
   ]
  },
  {
   "cell_type": "markdown",
   "id": "6bcb5ae8-2883-47fb-9186-dba39a754d75",
   "metadata": {},
   "source": [
    "➡️ Gives total Sales per Category."
   ]
  },
  {
   "cell_type": "markdown",
   "id": "3a7c6918-fab9-4036-b607-3ee5192c6864",
   "metadata": {},
   "source": [
    "📘 **Example 2: Multiple Aggregations on One Column**"
   ]
  },
  {
   "cell_type": "code",
   "execution_count": 15,
   "id": "4bdde807-1b5a-4422-a56b-c8883da5ed20",
   "metadata": {},
   "outputs": [
    {
     "data": {
      "text/html": [
       "<div>\n",
       "<style scoped>\n",
       "    .dataframe tbody tr th:only-of-type {\n",
       "        vertical-align: middle;\n",
       "    }\n",
       "\n",
       "    .dataframe tbody tr th {\n",
       "        vertical-align: top;\n",
       "    }\n",
       "\n",
       "    .dataframe thead th {\n",
       "        text-align: right;\n",
       "    }\n",
       "</style>\n",
       "<table border=\"1\" class=\"dataframe\">\n",
       "  <thead>\n",
       "    <tr style=\"text-align: right;\">\n",
       "      <th></th>\n",
       "      <th>sum</th>\n",
       "      <th>mean</th>\n",
       "      <th>max</th>\n",
       "    </tr>\n",
       "    <tr>\n",
       "      <th>Store</th>\n",
       "      <th></th>\n",
       "      <th></th>\n",
       "      <th></th>\n",
       "    </tr>\n",
       "  </thead>\n",
       "  <tbody>\n",
       "    <tr>\n",
       "      <th>S1</th>\n",
       "      <td>670</td>\n",
       "      <td>167.5</td>\n",
       "      <td>300</td>\n",
       "    </tr>\n",
       "    <tr>\n",
       "      <th>S2</th>\n",
       "      <td>830</td>\n",
       "      <td>207.5</td>\n",
       "      <td>250</td>\n",
       "    </tr>\n",
       "  </tbody>\n",
       "</table>\n",
       "</div>"
      ],
      "text/plain": [
       "       sum   mean  max\n",
       "Store                 \n",
       "S1     670  167.5  300\n",
       "S2     830  207.5  250"
      ]
     },
     "execution_count": 15,
     "metadata": {},
     "output_type": "execute_result"
    }
   ],
   "source": [
    "df.groupby('Store')['Sales'].agg(['sum', 'mean', 'max'])\n"
   ]
  },
  {
   "cell_type": "markdown",
   "id": "7f929180-1a3b-4471-80a5-cb9b9a105a13",
   "metadata": {},
   "source": [
    "➡️ Gives sum, average, and max Sales per Store.\n",
    "\n"
   ]
  },
  {
   "cell_type": "markdown",
   "id": "c746dae8-4415-407f-9f61-d464ab58847b",
   "metadata": {},
   "source": [
    "📘 Example 3: Multiple Aggregations on Multiple Columns"
   ]
  },
  {
   "cell_type": "code",
   "execution_count": 16,
   "id": "3fae9d3e-2f06-40ab-bdfb-2af5a21dddde",
   "metadata": {},
   "outputs": [
    {
     "data": {
      "text/html": [
       "<div>\n",
       "<style scoped>\n",
       "    .dataframe tbody tr th:only-of-type {\n",
       "        vertical-align: middle;\n",
       "    }\n",
       "\n",
       "    .dataframe tbody tr th {\n",
       "        vertical-align: top;\n",
       "    }\n",
       "\n",
       "    .dataframe thead tr th {\n",
       "        text-align: left;\n",
       "    }\n",
       "\n",
       "    .dataframe thead tr:last-of-type th {\n",
       "        text-align: right;\n",
       "    }\n",
       "</style>\n",
       "<table border=\"1\" class=\"dataframe\">\n",
       "  <thead>\n",
       "    <tr>\n",
       "      <th></th>\n",
       "      <th colspan=\"2\" halign=\"left\">Sales</th>\n",
       "      <th colspan=\"2\" halign=\"left\">Quantity</th>\n",
       "    </tr>\n",
       "    <tr>\n",
       "      <th></th>\n",
       "      <th>sum</th>\n",
       "      <th>mean</th>\n",
       "      <th>sum</th>\n",
       "      <th>mean</th>\n",
       "    </tr>\n",
       "    <tr>\n",
       "      <th>Category</th>\n",
       "      <th></th>\n",
       "      <th></th>\n",
       "      <th></th>\n",
       "      <th></th>\n",
       "    </tr>\n",
       "  </thead>\n",
       "  <tbody>\n",
       "    <tr>\n",
       "      <th>A</th>\n",
       "      <td>620</td>\n",
       "      <td>155.0</td>\n",
       "      <td>48</td>\n",
       "      <td>12.00</td>\n",
       "    </tr>\n",
       "    <tr>\n",
       "      <th>B</th>\n",
       "      <td>880</td>\n",
       "      <td>220.0</td>\n",
       "      <td>75</td>\n",
       "      <td>18.75</td>\n",
       "    </tr>\n",
       "  </tbody>\n",
       "</table>\n",
       "</div>"
      ],
      "text/plain": [
       "         Sales        Quantity       \n",
       "           sum   mean      sum   mean\n",
       "Category                             \n",
       "A          620  155.0       48  12.00\n",
       "B          880  220.0       75  18.75"
      ]
     },
     "execution_count": 16,
     "metadata": {},
     "output_type": "execute_result"
    }
   ],
   "source": [
    "df.groupby('Category')[['Sales', 'Quantity']].agg(['sum', 'mean'])\n"
   ]
  },
  {
   "cell_type": "markdown",
   "id": "f49c5c20-a854-4e56-8440-012b4094c8bd",
   "metadata": {},
   "source": [
    "➡️ Output me har Category ke liye:\n",
    "\n",
    "Sales ka total and average\n",
    "\n",
    "Quantity ka total and average\n",
    "\n"
   ]
  },
  {
   "cell_type": "markdown",
   "id": "0615ad45-0942-4586-8dbe-f23dcfd25239",
   "metadata": {},
   "source": [
    "🔄 Renaming Aggregated Columns"
   ]
  },
  {
   "cell_type": "code",
   "execution_count": 17,
   "id": "39aeeba5-d40a-44b1-bbfb-5e41b1b95fa5",
   "metadata": {},
   "outputs": [
    {
     "data": {
      "text/html": [
       "<div>\n",
       "<style scoped>\n",
       "    .dataframe tbody tr th:only-of-type {\n",
       "        vertical-align: middle;\n",
       "    }\n",
       "\n",
       "    .dataframe tbody tr th {\n",
       "        vertical-align: top;\n",
       "    }\n",
       "\n",
       "    .dataframe thead th {\n",
       "        text-align: right;\n",
       "    }\n",
       "</style>\n",
       "<table border=\"1\" class=\"dataframe\">\n",
       "  <thead>\n",
       "    <tr style=\"text-align: right;\">\n",
       "      <th></th>\n",
       "      <th>total_sales</th>\n",
       "      <th>average_sales</th>\n",
       "    </tr>\n",
       "    <tr>\n",
       "      <th>Store</th>\n",
       "      <th></th>\n",
       "      <th></th>\n",
       "    </tr>\n",
       "  </thead>\n",
       "  <tbody>\n",
       "    <tr>\n",
       "      <th>S1</th>\n",
       "      <td>670</td>\n",
       "      <td>167.5</td>\n",
       "    </tr>\n",
       "    <tr>\n",
       "      <th>S2</th>\n",
       "      <td>830</td>\n",
       "      <td>207.5</td>\n",
       "    </tr>\n",
       "  </tbody>\n",
       "</table>\n",
       "</div>"
      ],
      "text/plain": [
       "       total_sales  average_sales\n",
       "Store                            \n",
       "S1             670          167.5\n",
       "S2             830          207.5"
      ]
     },
     "execution_count": 17,
     "metadata": {},
     "output_type": "execute_result"
    }
   ],
   "source": [
    "df.groupby('Store')['Sales'].agg(total_sales='sum', average_sales='mean')\n"
   ]
  },
  {
   "cell_type": "markdown",
   "id": "c8fd0e7e-1660-45f8-9700-8700c0f4f689",
   "metadata": {},
   "source": [
    "🧠 Summary:\n",
    "groupby() ➕ .agg() = Powerful combo\n",
    "\n",
    "Use it to analyze trends and summarize large data"
   ]
  },
  {
   "cell_type": "code",
   "execution_count": null,
   "id": "f2889841-e488-4113-b7a4-88483031dc39",
   "metadata": {},
   "outputs": [],
   "source": []
  }
 ],
 "metadata": {
  "kernelspec": {
   "display_name": "Python 3 (ipykernel)",
   "language": "python",
   "name": "python3"
  },
  "language_info": {
   "codemirror_mode": {
    "name": "ipython",
    "version": 3
   },
   "file_extension": ".py",
   "mimetype": "text/x-python",
   "name": "python",
   "nbconvert_exporter": "python",
   "pygments_lexer": "ipython3",
   "version": "3.13.1"
  }
 },
 "nbformat": 4,
 "nbformat_minor": 5
}
